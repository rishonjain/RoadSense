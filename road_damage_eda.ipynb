{
 "cells": [
  {
   "cell_type": "code",
   "execution_count": 1,
   "id": "cf356c32",
   "metadata": {},
   "outputs": [
    {
     "ename": "ModuleNotFoundError",
     "evalue": "No module named 'seaborn'",
     "output_type": "error",
     "traceback": [
      "\u001b[31m---------------------------------------------------------------------------\u001b[39m",
      "\u001b[31mModuleNotFoundError\u001b[39m                       Traceback (most recent call last)",
      "\u001b[36mCell\u001b[39m\u001b[36m \u001b[39m\u001b[32mIn[1]\u001b[39m\u001b[32m, line 6\u001b[39m\n\u001b[32m      4\u001b[39m \u001b[38;5;28;01mimport\u001b[39;00m\u001b[38;5;250m \u001b[39m\u001b[34;01mpandas\u001b[39;00m\u001b[38;5;250m \u001b[39m\u001b[38;5;28;01mas\u001b[39;00m\u001b[38;5;250m \u001b[39m\u001b[34;01mpd\u001b[39;00m\n\u001b[32m      5\u001b[39m \u001b[38;5;28;01mimport\u001b[39;00m\u001b[38;5;250m \u001b[39m\u001b[34;01mmatplotlib\u001b[39;00m\u001b[34;01m.\u001b[39;00m\u001b[34;01mpyplot\u001b[39;00m\u001b[38;5;250m \u001b[39m\u001b[38;5;28;01mas\u001b[39;00m\u001b[38;5;250m \u001b[39m\u001b[34;01mplt\u001b[39;00m\n\u001b[32m----> \u001b[39m\u001b[32m6\u001b[39m \u001b[38;5;28;01mimport\u001b[39;00m\u001b[38;5;250m \u001b[39m\u001b[34;01mseaborn\u001b[39;00m\u001b[38;5;250m \u001b[39m\u001b[38;5;28;01mas\u001b[39;00m\u001b[38;5;250m \u001b[39m\u001b[34;01msns\u001b[39;00m\n\u001b[32m      7\u001b[39m \u001b[38;5;28;01mimport\u001b[39;00m\u001b[38;5;250m \u001b[39m\u001b[34;01mcv2\u001b[39;00m\n\u001b[32m      8\u001b[39m \u001b[38;5;28;01mimport\u001b[39;00m\u001b[38;5;250m \u001b[39m\u001b[34;01mos\u001b[39;00m\n",
      "\u001b[31mModuleNotFoundError\u001b[39m: No module named 'seaborn'"
     ]
    }
   ],
   "source": [
    "# road_damage_eda.ipynb\n",
    "\n",
    "# --- 1. IMPORTS ---\n",
    "import pandas as pd\n",
    "import matplotlib.pyplot as plt\n",
    "import seaborn as sns\n",
    "import cv2\n",
    "import os\n",
    "from ultralytics import YOLO\n",
    "\n",
    "# --- 2. LOAD DATASET ---\n",
    "# Assume you have a folder 'dataset/' with images and labels\n",
    "DATASET_DIR = \"dataset/\"\n",
    "IMAGES_DIR = os.path.join(DATASET_DIR, \"images\")\n",
    "LABELS_DIR = os.path.join(DATASET_DIR, \"labels\")\n",
    "\n",
    "print(\"Images:\", len(os.listdir(IMAGES_DIR)))\n",
    "print(\"Labels:\", len(os.listdir(LABELS_DIR)))\n",
    "\n",
    "# --- 3. SAMPLE IMAGE PREVIEW ---\n",
    "sample_img_path = os.path.join(IMAGES_DIR, os.listdir(IMAGES_DIR)[0])\n",
    "img = cv2.imread(sample_img_path)\n",
    "plt.imshow(cv2.cvtColor(img, cv2.COLOR_BGR2RGB))\n",
    "plt.title(\"Sample Road Image\")\n",
    "plt.axis(\"off\")\n",
    "plt.show()\n",
    "\n",
    "# --- 4. INSPECT LABELS ---\n",
    "# YOLO labels are typically in txt files: class x_center y_center width height\n",
    "label_file = os.path.join(LABELS_DIR, os.listdir(LABELS_DIR)[0])\n",
    "with open(label_file, \"r\") as f:\n",
    "    print(\"Sample label content:\\n\", f.read())\n",
    "\n",
    "# --- 5. CLASS DISTRIBUTION ---\n",
    "all_labels = []\n",
    "for label_file in os.listdir(LABELS_DIR):\n",
    "    with open(os.path.join(LABELS_DIR, label_file), \"r\") as f:\n",
    "        for line in f.readlines():\n",
    "            cls = int(line.split()[0])\n",
    "            all_labels.append(cls)\n",
    "\n",
    "df_labels = pd.DataFrame(all_labels, columns=[\"class\"])\n",
    "sns.countplot(x=\"class\", data=df_labels, palette=\"viridis\")\n",
    "plt.title(\"Class Distribution of Road Damage\")\n",
    "plt.show()\n",
    "\n",
    "# --- 6. YOLO MODEL CHECK ---\n",
    "model = YOLO(\"yolov8n.pt\")  # small pretrained YOLO\n",
    "print(\"Available classes in YOLO:\", model.names)"
   ]
  }
 ],
 "metadata": {
  "kernelspec": {
   "display_name": "venv",
   "language": "python",
   "name": "python3"
  },
  "language_info": {
   "codemirror_mode": {
    "name": "ipython",
    "version": 3
   },
   "file_extension": ".py",
   "mimetype": "text/x-python",
   "name": "python",
   "nbconvert_exporter": "python",
   "pygments_lexer": "ipython3",
   "version": "3.11.9"
  }
 },
 "nbformat": 4,
 "nbformat_minor": 5
}
